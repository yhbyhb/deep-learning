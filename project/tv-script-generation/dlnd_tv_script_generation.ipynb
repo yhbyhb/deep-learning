{
 "cells": [
  {
   "cell_type": "markdown",
   "metadata": {
    "deletable": true,
    "editable": true
   },
   "source": [
    "# TV Script Generation\n",
    "In this project, you'll generate your own [Simpsons](https://en.wikipedia.org/wiki/The_Simpsons) TV scripts using RNNs.  You'll be using part of the [Simpsons dataset](https://www.kaggle.com/wcukierski/the-simpsons-by-the-data) of scripts from 27 seasons.  The Neural Network you'll build will generate a new TV script for a scene at [Moe's Tavern](https://simpsonswiki.com/wiki/Moe's_Tavern).\n",
    "## Get the Data\n",
    "The data is already provided for you.  You'll be using a subset of the original dataset.  It consists of only the scenes in Moe's Tavern.  This doesn't include other versions of the tavern, like \"Moe's Cavern\", \"Flaming Moe's\", \"Uncle Moe's Family Feed-Bag\", etc.."
   ]
  },
  {
   "cell_type": "code",
   "execution_count": 1,
   "metadata": {
    "collapsed": true,
    "deletable": true,
    "editable": true
   },
   "outputs": [],
   "source": [
    "\"\"\"\n",
    "DON'T MODIFY ANYTHING IN THIS CELL\n",
    "\"\"\"\n",
    "import helper\n",
    "\n",
    "data_dir = './data/simpsons/moes_tavern_lines.txt'\n",
    "text = helper.load_data(data_dir)\n",
    "# Ignore notice, since we don't use it for analysing the data\n",
    "text = text[81:]"
   ]
  },
  {
   "cell_type": "markdown",
   "metadata": {
    "deletable": true,
    "editable": true
   },
   "source": [
    "## Explore the Data\n",
    "Play around with `view_sentence_range` to view different parts of the data."
   ]
  },
  {
   "cell_type": "code",
   "execution_count": 2,
   "metadata": {
    "collapsed": false,
    "deletable": true,
    "editable": true
   },
   "outputs": [
    {
     "name": "stdout",
     "output_type": "stream",
     "text": [
      "Dataset Stats\n",
      "Roughly the number of unique words: 11492\n",
      "Number of scenes: 262\n",
      "Average number of sentences in each scene: 15.248091603053435\n",
      "Number of lines: 4257\n",
      "Average number of words in each line: 11.50434578341555\n",
      "\n",
      "The sentences 0 to 10:\n",
      "Moe_Szyslak: (INTO PHONE) Moe's Tavern. Where the elite meet to drink.\n",
      "Bart_Simpson: Eh, yeah, hello, is Mike there? Last name, Rotch.\n",
      "Moe_Szyslak: (INTO PHONE) Hold on, I'll check. (TO BARFLIES) Mike Rotch. Mike Rotch. Hey, has anybody seen Mike Rotch, lately?\n",
      "Moe_Szyslak: (INTO PHONE) Listen you little puke. One of these days I'm gonna catch you, and I'm gonna carve my name on your back with an ice pick.\n",
      "Moe_Szyslak: What's the matter Homer? You're not your normal effervescent self.\n",
      "Homer_Simpson: I got my problems, Moe. Give me another one.\n",
      "Moe_Szyslak: Homer, hey, you should not drink to forget your problems.\n",
      "Barney_Gumble: Yeah, you should only drink to enhance your social skills.\n",
      "\n",
      "\n"
     ]
    }
   ],
   "source": [
    "view_sentence_range = (0, 10)\n",
    "\n",
    "\"\"\"\n",
    "DON'T MODIFY ANYTHING IN THIS CELL\n",
    "\"\"\"\n",
    "import numpy as np\n",
    "\n",
    "print('Dataset Stats')\n",
    "print('Roughly the number of unique words: {}'.format(len({word: None for word in text.split()})))\n",
    "scenes = text.split('\\n\\n')\n",
    "print('Number of scenes: {}'.format(len(scenes)))\n",
    "sentence_count_scene = [scene.count('\\n') for scene in scenes]\n",
    "print('Average number of sentences in each scene: {}'.format(np.average(sentence_count_scene)))\n",
    "\n",
    "sentences = [sentence for scene in scenes for sentence in scene.split('\\n')]\n",
    "print('Number of lines: {}'.format(len(sentences)))\n",
    "word_count_sentence = [len(sentence.split()) for sentence in sentences]\n",
    "print('Average number of words in each line: {}'.format(np.average(word_count_sentence)))\n",
    "\n",
    "print()\n",
    "print('The sentences {} to {}:'.format(*view_sentence_range))\n",
    "print('\\n'.join(text.split('\\n')[view_sentence_range[0]:view_sentence_range[1]]))"
   ]
  },
  {
   "cell_type": "markdown",
   "metadata": {
    "deletable": true,
    "editable": true
   },
   "source": [
    "## Implement Preprocessing Functions\n",
    "The first thing to do to any dataset is preprocessing.  Implement the following preprocessing functions below:\n",
    "- Lookup Table\n",
    "- Tokenize Punctuation\n",
    "\n",
    "### Lookup Table\n",
    "To create a word embedding, you first need to transform the words to ids.  In this function, create two dictionaries:\n",
    "- Dictionary to go from the words to an id, we'll call `vocab_to_int`\n",
    "- Dictionary to go from the id to word, we'll call `int_to_vocab`\n",
    "\n",
    "Return these dictionaries in the following tuple `(vocab_to_int, int_to_vocab)`"
   ]
  },
  {
   "cell_type": "code",
   "execution_count": 3,
   "metadata": {
    "collapsed": false,
    "deletable": true,
    "editable": true
   },
   "outputs": [
    {
     "name": "stdout",
     "output_type": "stream",
     "text": [
      "Tests Passed\n"
     ]
    }
   ],
   "source": [
    "import numpy as np\n",
    "import problem_unittests as tests\n",
    "\n",
    "def create_lookup_tables(text):\n",
    "    \"\"\"\n",
    "    Create lookup tables for vocabulary\n",
    "    :param text: The text of tv scripts split into words\n",
    "    :return: A tuple of dicts (vocab_to_int, int_to_vocab)\n",
    "    \"\"\"\n",
    "    # TODO: Implement Function\n",
    "    from collections import Counter\n",
    "    text_counts = Counter(text)\n",
    "    sorted_vocab = sorted(text_counts, key=text_counts.get, reverse=True)\n",
    "    int_to_vocab = {ii: word for ii, word in enumerate(sorted_vocab)}\n",
    "    vocab_to_int = {word: ii for ii, word in int_to_vocab.items()}\n",
    "    return vocab_to_int, int_to_vocab\n",
    "\n",
    "\n",
    "\"\"\"\n",
    "DON'T MODIFY ANYTHING IN THIS CELL THAT IS BELOW THIS LINE\n",
    "\"\"\"\n",
    "tests.test_create_lookup_tables(create_lookup_tables)"
   ]
  },
  {
   "cell_type": "markdown",
   "metadata": {
    "deletable": true,
    "editable": true
   },
   "source": [
    "### Tokenize Punctuation\n",
    "We'll be splitting the script into a word array using spaces as delimiters.  However, punctuations like periods and exclamation marks make it hard for the neural network to distinguish between the word \"bye\" and \"bye!\".\n",
    "\n",
    "Implement the function `token_lookup` to return a dict that will be used to tokenize symbols like \"!\" into \"||Exclamation_Mark||\".  Create a dictionary for the following symbols where the symbol is the key and value is the token:\n",
    "- Period ( . )\n",
    "- Comma ( , )\n",
    "- Quotation Mark ( \" )\n",
    "- Semicolon ( ; )\n",
    "- Exclamation mark ( ! )\n",
    "- Question mark ( ? )\n",
    "- Left Parentheses ( ( )\n",
    "- Right Parentheses ( ) )\n",
    "- Dash ( -- )\n",
    "- Return ( \\n )\n",
    "\n",
    "This dictionary will be used to token the symbols and add the delimiter (space) around it.  This separates the symbols as it's own word, making it easier for the neural network to predict on the next word. Make sure you don't use a token that could be confused as a word. Instead of using the token \"dash\", try using something like \"||dash||\"."
   ]
  },
  {
   "cell_type": "code",
   "execution_count": 4,
   "metadata": {
    "collapsed": false,
    "deletable": true,
    "editable": true
   },
   "outputs": [
    {
     "name": "stdout",
     "output_type": "stream",
     "text": [
      "Tests Passed\n"
     ]
    }
   ],
   "source": [
    "def token_lookup():\n",
    "    \"\"\"\n",
    "    Generate a dict to turn punctuation into a token.\n",
    "    :return: Tokenize dictionary where the key is the punctuation and the value is the token\n",
    "    \"\"\"\n",
    "    # TODO: Implement Function\n",
    "    lookup_table = { '.'  : '||Period||',\n",
    "                     ','  : '||Comma||',\n",
    "                     '\"'  : '||Quotation_Mark||',\n",
    "                     ';'  : '||Semicolon||',\n",
    "                     '!'  : '||Exclamation_mark||',\n",
    "                     '?'  : '||Question_mark||',\n",
    "                     '('  : '||Left_Parentheses||',\n",
    "                     ')'  : '||Right_Parentheses||',\n",
    "                     '--' : '||Dash||',\n",
    "                     '\\n' : '||Return||',\n",
    "                     }\n",
    "    return lookup_table\n",
    "\n",
    "\"\"\"\n",
    "DON'T MODIFY ANYTHING IN THIS CELL THAT IS BELOW THIS LINE\n",
    "\"\"\"\n",
    "tests.test_tokenize(token_lookup)"
   ]
  },
  {
   "cell_type": "markdown",
   "metadata": {
    "deletable": true,
    "editable": true
   },
   "source": [
    "## Preprocess all the data and save it\n",
    "Running the code cell below will preprocess all the data and save it to file."
   ]
  },
  {
   "cell_type": "code",
   "execution_count": 5,
   "metadata": {
    "collapsed": true,
    "deletable": true,
    "editable": true
   },
   "outputs": [],
   "source": [
    "\"\"\"\n",
    "DON'T MODIFY ANYTHING IN THIS CELL\n",
    "\"\"\"\n",
    "# Preprocess Training, Validation, and Testing Data\n",
    "helper.preprocess_and_save_data(data_dir, token_lookup, create_lookup_tables)"
   ]
  },
  {
   "cell_type": "markdown",
   "metadata": {
    "deletable": true,
    "editable": true
   },
   "source": [
    "# Check Point\n",
    "This is your first checkpoint. If you ever decide to come back to this notebook or have to restart the notebook, you can start from here. The preprocessed data has been saved to disk."
   ]
  },
  {
   "cell_type": "code",
   "execution_count": 6,
   "metadata": {
    "collapsed": true,
    "deletable": true,
    "editable": true
   },
   "outputs": [],
   "source": [
    "\"\"\"\n",
    "DON'T MODIFY ANYTHING IN THIS CELL\n",
    "\"\"\"\n",
    "import helper\n",
    "import numpy as np\n",
    "import problem_unittests as tests\n",
    "\n",
    "int_text, vocab_to_int, int_to_vocab, token_dict = helper.load_preprocess()"
   ]
  },
  {
   "cell_type": "markdown",
   "metadata": {
    "deletable": true,
    "editable": true
   },
   "source": [
    "## Build the Neural Network\n",
    "You'll build the components necessary to build a RNN by implementing the following functions below:\n",
    "- get_inputs\n",
    "- get_init_cell\n",
    "- get_embed\n",
    "- build_rnn\n",
    "- build_nn\n",
    "- get_batches\n",
    "\n",
    "### Check the Version of TensorFlow and Access to GPU"
   ]
  },
  {
   "cell_type": "code",
   "execution_count": 7,
   "metadata": {
    "collapsed": false,
    "deletable": true,
    "editable": true
   },
   "outputs": [
    {
     "name": "stdout",
     "output_type": "stream",
     "text": [
      "TensorFlow Version: 1.0.0\n",
      "Default GPU Device: /gpu:0\n"
     ]
    }
   ],
   "source": [
    "\"\"\"\n",
    "DON'T MODIFY ANYTHING IN THIS CELL\n",
    "\"\"\"\n",
    "from distutils.version import LooseVersion\n",
    "import warnings\n",
    "import tensorflow as tf\n",
    "\n",
    "# Check TensorFlow Version\n",
    "assert LooseVersion(tf.__version__) >= LooseVersion('1.0'), 'Please use TensorFlow version 1.0 or newer'\n",
    "print('TensorFlow Version: {}'.format(tf.__version__))\n",
    "\n",
    "# Check for a GPU\n",
    "if not tf.test.gpu_device_name():\n",
    "    warnings.warn('No GPU found. Please use a GPU to train your neural network.')\n",
    "else:\n",
    "    print('Default GPU Device: {}'.format(tf.test.gpu_device_name()))"
   ]
  },
  {
   "cell_type": "markdown",
   "metadata": {
    "deletable": true,
    "editable": true
   },
   "source": [
    "### Input\n",
    "Implement the `get_inputs()` function to create TF Placeholders for the Neural Network.  It should create the following placeholders:\n",
    "- Input text placeholder named \"input\" using the [TF Placeholder](https://www.tensorflow.org/api_docs/python/tf/placeholder) `name` parameter.\n",
    "- Targets placeholder\n",
    "- Learning Rate placeholder\n",
    "\n",
    "Return the placeholders in the following tuple `(Input, Targets, LearningRate)`"
   ]
  },
  {
   "cell_type": "code",
   "execution_count": 8,
   "metadata": {
    "collapsed": false,
    "deletable": true,
    "editable": true
   },
   "outputs": [
    {
     "name": "stdout",
     "output_type": "stream",
     "text": [
      "Tests Passed\n"
     ]
    }
   ],
   "source": [
    "def get_inputs():\n",
    "    \"\"\"\n",
    "    Create TF Placeholders for input, targets, and learning rate.\n",
    "    :return: Tuple (input, targets, learning rate)\n",
    "    \"\"\"\n",
    "    # TODO: Implement Function\n",
    "#     train_graph = tf.Graph()\n",
    "#     with train_graph.as_default():\n",
    "    inputs = tf.placeholder(tf.int32, [None, None], name='input')\n",
    "    targets = tf.placeholder(tf.int32, [None, None], name='targets')\n",
    "    learning_rate = tf.placeholder(tf.float32, None, name='learning_rate')\n",
    "    return inputs, targets, learning_rate\n",
    "\n",
    "\n",
    "\"\"\"\n",
    "DON'T MODIFY ANYTHING IN THIS CELL THAT IS BELOW THIS LINE\n",
    "\"\"\"\n",
    "tests.test_get_inputs(get_inputs)"
   ]
  },
  {
   "cell_type": "markdown",
   "metadata": {
    "deletable": true,
    "editable": true
   },
   "source": [
    "### Build RNN Cell and Initialize\n",
    "Stack one or more [`BasicLSTMCells`](https://www.tensorflow.org/api_docs/python/tf/contrib/rnn/BasicLSTMCell) in a [`MultiRNNCell`](https://www.tensorflow.org/api_docs/python/tf/contrib/rnn/MultiRNNCell).\n",
    "- The Rnn size should be set using `rnn_size`\n",
    "- Initalize Cell State using the MultiRNNCell's [`zero_state()`](https://www.tensorflow.org/api_docs/python/tf/contrib/rnn/MultiRNNCell#zero_state) function\n",
    "    - Apply the name \"initial_state\" to the initial state using [`tf.identity()`](https://www.tensorflow.org/api_docs/python/tf/identity)\n",
    "\n",
    "Return the cell and initial state in the following tuple `(Cell, InitialState)`"
   ]
  },
  {
   "cell_type": "code",
   "execution_count": 9,
   "metadata": {
    "collapsed": false,
    "deletable": true,
    "editable": true
   },
   "outputs": [
    {
     "name": "stdout",
     "output_type": "stream",
     "text": [
      "Tests Passed\n"
     ]
    }
   ],
   "source": [
    "def get_init_cell(batch_size, rnn_size):\n",
    "    \"\"\"\n",
    "    Create an RNN Cell and initialize it.\n",
    "    :param batch_size: Size of batches\n",
    "    :param rnn_size: Size of RNNs\n",
    "    :return: Tuple (cell, initialize state)\n",
    "    \"\"\"\n",
    "    # TODO: Implement Function\n",
    "    lstm = tf.contrib.rnn.BasicLSTMCell(rnn_size)\n",
    "    num_layers = 1\n",
    "    cell = tf.contrib.rnn.MultiRNNCell([lstm] * num_layers)\n",
    "    initial_state = tf.identity(cell.zero_state(batch_size, tf.float32), 'initial_state')\n",
    "    return cell, initial_state\n",
    "\n",
    "\n",
    "\"\"\"\n",
    "DON'T MODIFY ANYTHING IN THIS CELL THAT IS BELOW THIS LINE\n",
    "\"\"\"\n",
    "tests.test_get_init_cell(get_init_cell)"
   ]
  },
  {
   "cell_type": "markdown",
   "metadata": {
    "deletable": true,
    "editable": true
   },
   "source": [
    "### Word Embedding\n",
    "Apply embedding to `input_data` using TensorFlow.  Return the embedded sequence."
   ]
  },
  {
   "cell_type": "code",
   "execution_count": 10,
   "metadata": {
    "collapsed": false,
    "deletable": true,
    "editable": true
   },
   "outputs": [
    {
     "name": "stdout",
     "output_type": "stream",
     "text": [
      "Tests Passed\n"
     ]
    }
   ],
   "source": [
    "def get_embed(input_data, vocab_size, embed_dim):\n",
    "    \"\"\"\n",
    "    Create embedding for <input_data>.\n",
    "    :param input_data: TF placeholder for text input.\n",
    "    :param vocab_size: Number of words in vocabulary.\n",
    "    :param embed_dim: Number of embedding dimensions\n",
    "    :return: Embedded input.\n",
    "    \"\"\"\n",
    "    # TODO: Implement Function\n",
    "    embedding = tf.Variable(tf.random_uniform((vocab_size, embed_dim), -1, 1))\n",
    "    embed = tf.nn.embedding_lookup(embedding, input_data)\n",
    "    return embed\n",
    "\n",
    "\n",
    "\"\"\"\n",
    "DON'T MODIFY ANYTHING IN THIS CELL THAT IS BELOW THIS LINE\n",
    "\"\"\"\n",
    "tests.test_get_embed(get_embed)"
   ]
  },
  {
   "cell_type": "markdown",
   "metadata": {
    "deletable": true,
    "editable": true
   },
   "source": [
    "### Build RNN\n",
    "You created a RNN Cell in the `get_init_cell()` function.  Time to use the cell to create a RNN.\n",
    "- Build the RNN using the [`tf.nn.dynamic_rnn()`](https://www.tensorflow.org/api_docs/python/tf/nn/dynamic_rnn)\n",
    " - Apply the name \"final_state\" to the final state using [`tf.identity()`](https://www.tensorflow.org/api_docs/python/tf/identity)\n",
    "\n",
    "Return the outputs and final_state state in the following tuple `(Outputs, FinalState)` "
   ]
  },
  {
   "cell_type": "code",
   "execution_count": 11,
   "metadata": {
    "collapsed": false,
    "deletable": true,
    "editable": true
   },
   "outputs": [
    {
     "name": "stdout",
     "output_type": "stream",
     "text": [
      "Tests Passed\n"
     ]
    }
   ],
   "source": [
    "def build_rnn(cell, inputs):\n",
    "    \"\"\"\n",
    "    Create a RNN using a RNN Cell\n",
    "    :param cell: RNN Cell\n",
    "    :param inputs: Input text data\n",
    "    :return: Tuple (Outputs, Final State)\n",
    "    \"\"\"\n",
    "    # TODO: Implement Function\n",
    "    outputs, state = tf.nn.dynamic_rnn(cell, inputs, dtype=tf.float32)\n",
    "    final_state = tf.identity(state, name='final_state')\n",
    "    return outputs, final_state\n",
    "\n",
    "\n",
    "\"\"\"\n",
    "DON'T MODIFY ANYTHING IN THIS CELL THAT IS BELOW THIS LINE\n",
    "\"\"\"\n",
    "tests.test_build_rnn(build_rnn)"
   ]
  },
  {
   "cell_type": "markdown",
   "metadata": {
    "deletable": true,
    "editable": true
   },
   "source": [
    "### Build the Neural Network\n",
    "Apply the functions you implemented above to:\n",
    "- Apply embedding to `input_data` using your `get_embed(input_data, vocab_size, embed_dim)` function.\n",
    "- Build RNN using `cell` and your `build_rnn(cell, inputs)` function.\n",
    "- Apply a fully connected layer with a linear activation and `vocab_size` as the number of outputs.\n",
    "\n",
    "Return the logits and final state in the following tuple (Logits, FinalState) "
   ]
  },
  {
   "cell_type": "code",
   "execution_count": 12,
   "metadata": {
    "collapsed": false,
    "deletable": true,
    "editable": true
   },
   "outputs": [
    {
     "name": "stdout",
     "output_type": "stream",
     "text": [
      "Tests Passed\n"
     ]
    }
   ],
   "source": [
    "def build_nn(cell, rnn_size, input_data, vocab_size, embed_dim):\n",
    "    \"\"\"\n",
    "    Build part of the neural network\n",
    "    :param cell: RNN cell\n",
    "    :param rnn_size: Size of rnns\n",
    "    :param input_data: Input data\n",
    "    :param vocab_size: Vocabulary size\n",
    "    :param embed_dim: Number of embedding dimensions\n",
    "    :return: Tuple (Logits, FinalState)\n",
    "    \"\"\"\n",
    "    # TODO: Implement Function\n",
    "    embed = get_embed(input_data, vocab_size, embed_dim)\n",
    "    rnn_output, final_state = build_rnn(cell, embed)\n",
    "    logits = tf.layers.dense(rnn_output, vocab_size, activation=None)\n",
    "    return logits, final_state\n",
    "\n",
    "\n",
    "\"\"\"\n",
    "DON'T MODIFY ANYTHING IN THIS CELL THAT IS BELOW THIS LINE\n",
    "\"\"\"\n",
    "tests.test_build_nn(build_nn)"
   ]
  },
  {
   "cell_type": "markdown",
   "metadata": {
    "deletable": true,
    "editable": true
   },
   "source": [
    "### Batches\n",
    "Implement `get_batches` to create batches of input and targets using `int_text`.  The batches should be a Numpy array with the shape `(number of batches, 2, batch size, sequence length)`. Each batch contains two elements:\n",
    "- The first element is a single batch of **input** with the shape `[batch size, sequence length]`\n",
    "- The second element is a single batch of **targets** with the shape `[batch size, sequence length]`\n",
    "\n",
    "If you can't fill the last batch with enough data, drop the last batch.\n",
    "\n",
    "For exmple, `get_batches([1, 2, 3, 4, 5, 6, 7, 8, 9, 10, 11, 12, 13, 14, 15, 16, 17, 18, 19, 20], 3, 2)` would return a Numpy array of the following:\n",
    "```\n",
    "[\n",
    "  # First Batch\n",
    "  [\n",
    "    # Batch of Input\n",
    "    [[ 1  2], [ 7  8], [13 14]]\n",
    "    # Batch of targets\n",
    "    [[ 2  3], [ 8  9], [14 15]]\n",
    "  ]\n",
    "\n",
    "  # Second Batch\n",
    "  [\n",
    "    # Batch of Input\n",
    "    [[ 3  4], [ 9 10], [15 16]]\n",
    "    # Batch of targets\n",
    "    [[ 4  5], [10 11], [16 17]]\n",
    "  ]\n",
    "\n",
    "  # Third Batch\n",
    "  [\n",
    "    # Batch of Input\n",
    "    [[ 5  6], [11 12], [17 18]]\n",
    "    # Batch of targets\n",
    "    [[ 6  7], [12 13], [18  1]]\n",
    "  ]\n",
    "]\n",
    "```\n",
    "\n",
    "Notice that the last target value in the last batch is the first input value of the first batch. In this case, `1`. This is a common technique used when creating sequence batches, although it is rather unintuitive."
   ]
  },
  {
   "cell_type": "code",
   "execution_count": 13,
   "metadata": {
    "collapsed": false,
    "deletable": true,
    "editable": true
   },
   "outputs": [
    {
     "name": "stdout",
     "output_type": "stream",
     "text": [
      "Tests Passed\n"
     ]
    }
   ],
   "source": [
    "def get_batches(int_text, batch_size, seq_length):\n",
    "    \"\"\"\n",
    "    Return batches of input and target\n",
    "    :param int_text: Text with the words replaced by their ids\n",
    "    :param batch_size: The size of batch\n",
    "    :param seq_length: The length of sequence\n",
    "    :return: Batches as a Numpy array\n",
    "    \"\"\"\n",
    "    # TODO: Implement Function\n",
    "#     print(len(int_text),int_text[0:10], batch_size, seq_length)\n",
    "    size = batch_size * seq_length\n",
    "    n_batches = len(int_text)//size\n",
    "    \n",
    "    inputs = np.array(int_text[:n_batches * size])\n",
    "    targets = np.zeros_like(inputs)\n",
    "    targets[:-1], targets[-1] = inputs[1:], inputs[0]\n",
    "\n",
    "    inputs = inputs.reshape((batch_size, -1))\n",
    "    targets = targets.reshape((batch_size, -1))\n",
    "#     print(inputs.shape)\n",
    "#     print(inputs[:, :])\n",
    "\n",
    "    batches = np.zeros((n_batches, 2, batch_size, seq_length))\n",
    "    for n in range(0, inputs.shape[1], seq_length):\n",
    "        x = inputs[:, n:n+seq_length]\n",
    "        y = targets[:, n:n+seq_length]\n",
    "\n",
    "#         print(x.shape, y.shape)  \n",
    "#         print(x)\n",
    "#         print(y)    \n",
    "        batches[n//seq_length, 0] = x\n",
    "        batches[n//seq_length, 1] = y\n",
    "      \n",
    "#     print(batches[0][0][0])\n",
    "#     print(batches[0][1][0])\n",
    "        \n",
    "    return batches\n",
    "\n",
    "\n",
    "\"\"\"\n",
    "DON'T MODIFY ANYTHING IN THIS CELL THAT IS BELOW THIS LINE\n",
    "\"\"\"\n",
    "tests.test_get_batches(get_batches)"
   ]
  },
  {
   "cell_type": "markdown",
   "metadata": {
    "deletable": true,
    "editable": true
   },
   "source": [
    "## Neural Network Training\n",
    "### Hyperparameters\n",
    "Tune the following parameters:\n",
    "\n",
    "- Set `num_epochs` to the number of epochs.\n",
    "- Set `batch_size` to the batch size.\n",
    "- Set `rnn_size` to the size of the RNNs.\n",
    "- Set `embed_dim` to the size of the embedding.\n",
    "- Set `seq_length` to the length of sequence.\n",
    "- Set `learning_rate` to the learning rate.\n",
    "- Set `show_every_n_batches` to the number of batches the neural network should print progress."
   ]
  },
  {
   "cell_type": "code",
   "execution_count": 48,
   "metadata": {
    "collapsed": true,
    "deletable": true,
    "editable": true
   },
   "outputs": [],
   "source": [
    "# Number of Epochs\n",
    "num_epochs = 1000\n",
    "# Batch Size\n",
    "batch_size = 128\n",
    "# RNN Size\n",
    "rnn_size = 512\n",
    "# Embedding Dimension Size\n",
    "embed_dim = 16\n",
    "# Sequence Length\n",
    "seq_length = 100\n",
    "# Learning Rate\n",
    "learning_rate = 0.001\n",
    "# Show stats for every n number of batches\n",
    "show_every_n_batches = 10\n",
    "\n",
    "\"\"\"\n",
    "DON'T MODIFY ANYTHING IN THIS CELL THAT IS BELOW THIS LINE\n",
    "\"\"\"\n",
    "save_dir = './save'"
   ]
  },
  {
   "cell_type": "markdown",
   "metadata": {
    "deletable": true,
    "editable": true
   },
   "source": [
    "### Build the Graph\n",
    "Build the graph using the neural network you implemented."
   ]
  },
  {
   "cell_type": "code",
   "execution_count": 49,
   "metadata": {
    "collapsed": true,
    "deletable": true,
    "editable": true
   },
   "outputs": [],
   "source": [
    "\"\"\"\n",
    "DON'T MODIFY ANYTHING IN THIS CELL\n",
    "\"\"\"\n",
    "from tensorflow.contrib import seq2seq\n",
    "\n",
    "train_graph = tf.Graph()\n",
    "with train_graph.as_default():\n",
    "    vocab_size = len(int_to_vocab)\n",
    "    input_text, targets, lr = get_inputs()\n",
    "    input_data_shape = tf.shape(input_text)\n",
    "    cell, initial_state = get_init_cell(input_data_shape[0], rnn_size)\n",
    "    logits, final_state = build_nn(cell, rnn_size, input_text, vocab_size, embed_dim)\n",
    "\n",
    "    # Probabilities for generating words\n",
    "    probs = tf.nn.softmax(logits, name='probs')\n",
    "\n",
    "    # Loss function\n",
    "    cost = seq2seq.sequence_loss(\n",
    "        logits,\n",
    "        targets,\n",
    "        tf.ones([input_data_shape[0], input_data_shape[1]]))\n",
    "\n",
    "    # Optimizer\n",
    "    optimizer = tf.train.AdamOptimizer(lr)\n",
    "\n",
    "    # Gradient Clipping\n",
    "    gradients = optimizer.compute_gradients(cost)\n",
    "    capped_gradients = [(tf.clip_by_value(grad, -1., 1.), var) for grad, var in gradients if grad is not None]\n",
    "    train_op = optimizer.apply_gradients(capped_gradients)"
   ]
  },
  {
   "cell_type": "markdown",
   "metadata": {
    "deletable": true,
    "editable": true
   },
   "source": [
    "## Train\n",
    "Train the neural network on the preprocessed data.  If you have a hard time getting a good loss, check the [forms](https://discussions.udacity.com/) to see if anyone is having the same problem."
   ]
  },
  {
   "cell_type": "code",
   "execution_count": 50,
   "metadata": {
    "collapsed": false,
    "deletable": true,
    "editable": true
   },
   "outputs": [
    {
     "name": "stdout",
     "output_type": "stream",
     "text": [
      "Epoch   0 Batch    0/5   train_loss = 8.822\n",
      "Epoch   2 Batch    0/5   train_loss = 6.380\n",
      "Epoch   4 Batch    0/5   train_loss = 6.158\n",
      "Epoch   6 Batch    0/5   train_loss = 6.073\n",
      "Epoch   8 Batch    0/5   train_loss = 6.047\n",
      "Epoch  10 Batch    0/5   train_loss = 6.028\n",
      "Epoch  12 Batch    0/5   train_loss = 6.021\n",
      "Epoch  14 Batch    0/5   train_loss = 6.014\n",
      "Epoch  16 Batch    0/5   train_loss = 6.007\n",
      "Epoch  18 Batch    0/5   train_loss = 5.997\n",
      "Epoch  20 Batch    0/5   train_loss = 5.985\n",
      "Epoch  22 Batch    0/5   train_loss = 5.967\n",
      "Epoch  24 Batch    0/5   train_loss = 5.940\n",
      "Epoch  26 Batch    0/5   train_loss = 5.904\n",
      "Epoch  28 Batch    0/5   train_loss = 5.857\n",
      "Epoch  30 Batch    0/5   train_loss = 5.804\n",
      "Epoch  32 Batch    0/5   train_loss = 5.748\n",
      "Epoch  34 Batch    0/5   train_loss = 5.688\n",
      "Epoch  36 Batch    0/5   train_loss = 5.637\n",
      "Epoch  38 Batch    0/5   train_loss = 5.593\n",
      "Epoch  40 Batch    0/5   train_loss = 5.543\n",
      "Epoch  42 Batch    0/5   train_loss = 5.500\n",
      "Epoch  44 Batch    0/5   train_loss = 5.457\n",
      "Epoch  46 Batch    0/5   train_loss = 5.416\n",
      "Epoch  48 Batch    0/5   train_loss = 5.377\n",
      "Epoch  50 Batch    0/5   train_loss = 5.353\n",
      "Epoch  52 Batch    0/5   train_loss = 5.299\n",
      "Epoch  54 Batch    0/5   train_loss = 5.258\n",
      "Epoch  56 Batch    0/5   train_loss = 5.211\n",
      "Epoch  58 Batch    0/5   train_loss = 5.168\n",
      "Epoch  60 Batch    0/5   train_loss = 5.127\n",
      "Epoch  62 Batch    0/5   train_loss = 5.085\n",
      "Epoch  64 Batch    0/5   train_loss = 5.044\n",
      "Epoch  66 Batch    0/5   train_loss = 5.005\n",
      "Epoch  68 Batch    0/5   train_loss = 4.966\n",
      "Epoch  70 Batch    0/5   train_loss = 4.929\n",
      "Epoch  72 Batch    0/5   train_loss = 4.892\n",
      "Epoch  74 Batch    0/5   train_loss = 4.857\n",
      "Epoch  76 Batch    0/5   train_loss = 4.822\n",
      "Epoch  78 Batch    0/5   train_loss = 4.788\n",
      "Epoch  80 Batch    0/5   train_loss = 4.755\n",
      "Epoch  82 Batch    0/5   train_loss = 4.721\n",
      "Epoch  84 Batch    0/5   train_loss = 4.687\n",
      "Epoch  86 Batch    0/5   train_loss = 4.657\n",
      "Epoch  88 Batch    0/5   train_loss = 4.630\n",
      "Epoch  90 Batch    0/5   train_loss = 4.596\n",
      "Epoch  92 Batch    0/5   train_loss = 4.573\n",
      "Epoch  94 Batch    0/5   train_loss = 4.536\n",
      "Epoch  96 Batch    0/5   train_loss = 4.505\n",
      "Epoch  98 Batch    0/5   train_loss = 4.477\n",
      "Epoch 100 Batch    0/5   train_loss = 4.447\n",
      "Epoch 102 Batch    0/5   train_loss = 4.418\n",
      "Epoch 104 Batch    0/5   train_loss = 4.391\n",
      "Epoch 106 Batch    0/5   train_loss = 4.363\n",
      "Epoch 108 Batch    0/5   train_loss = 4.336\n",
      "Epoch 110 Batch    0/5   train_loss = 4.309\n",
      "Epoch 112 Batch    0/5   train_loss = 4.283\n",
      "Epoch 114 Batch    0/5   train_loss = 4.256\n",
      "Epoch 116 Batch    0/5   train_loss = 4.230\n",
      "Epoch 118 Batch    0/5   train_loss = 4.205\n",
      "Epoch 120 Batch    0/5   train_loss = 4.180\n",
      "Epoch 122 Batch    0/5   train_loss = 4.154\n",
      "Epoch 124 Batch    0/5   train_loss = 4.133\n",
      "Epoch 126 Batch    0/5   train_loss = 4.105\n",
      "Epoch 128 Batch    0/5   train_loss = 4.084\n",
      "Epoch 130 Batch    0/5   train_loss = 4.058\n",
      "Epoch 132 Batch    0/5   train_loss = 4.028\n",
      "Epoch 134 Batch    0/5   train_loss = 4.007\n",
      "Epoch 136 Batch    0/5   train_loss = 3.984\n",
      "Epoch 138 Batch    0/5   train_loss = 3.973\n",
      "Epoch 140 Batch    0/5   train_loss = 3.934\n",
      "Epoch 142 Batch    0/5   train_loss = 3.913\n",
      "Epoch 144 Batch    0/5   train_loss = 3.884\n",
      "Epoch 146 Batch    0/5   train_loss = 3.861\n",
      "Epoch 148 Batch    0/5   train_loss = 3.836\n",
      "Epoch 150 Batch    0/5   train_loss = 3.813\n",
      "Epoch 152 Batch    0/5   train_loss = 3.791\n",
      "Epoch 154 Batch    0/5   train_loss = 3.767\n",
      "Epoch 156 Batch    0/5   train_loss = 3.742\n",
      "Epoch 158 Batch    0/5   train_loss = 3.720\n",
      "Epoch 160 Batch    0/5   train_loss = 3.700\n",
      "Epoch 162 Batch    0/5   train_loss = 3.679\n",
      "Epoch 164 Batch    0/5   train_loss = 3.653\n",
      "Epoch 166 Batch    0/5   train_loss = 3.629\n",
      "Epoch 168 Batch    0/5   train_loss = 3.612\n",
      "Epoch 170 Batch    0/5   train_loss = 3.584\n",
      "Epoch 172 Batch    0/5   train_loss = 3.562\n",
      "Epoch 174 Batch    0/5   train_loss = 3.540\n",
      "Epoch 176 Batch    0/5   train_loss = 3.518\n",
      "Epoch 178 Batch    0/5   train_loss = 3.496\n",
      "Epoch 180 Batch    0/5   train_loss = 3.474\n",
      "Epoch 182 Batch    0/5   train_loss = 3.453\n",
      "Epoch 184 Batch    0/5   train_loss = 3.437\n",
      "Epoch 186 Batch    0/5   train_loss = 3.415\n",
      "Epoch 188 Batch    0/5   train_loss = 3.390\n",
      "Epoch 190 Batch    0/5   train_loss = 3.370\n",
      "Epoch 192 Batch    0/5   train_loss = 3.354\n",
      "Epoch 194 Batch    0/5   train_loss = 3.335\n",
      "Epoch 196 Batch    0/5   train_loss = 3.314\n",
      "Epoch 198 Batch    0/5   train_loss = 3.294\n",
      "Epoch 200 Batch    0/5   train_loss = 3.269\n",
      "Epoch 202 Batch    0/5   train_loss = 3.254\n",
      "Epoch 204 Batch    0/5   train_loss = 3.243\n",
      "Epoch 206 Batch    0/5   train_loss = 3.215\n",
      "Epoch 208 Batch    0/5   train_loss = 3.198\n",
      "Epoch 210 Batch    0/5   train_loss = 3.178\n",
      "Epoch 212 Batch    0/5   train_loss = 3.160\n",
      "Epoch 214 Batch    0/5   train_loss = 3.183\n",
      "Epoch 216 Batch    0/5   train_loss = 3.137\n",
      "Epoch 218 Batch    0/5   train_loss = 3.111\n",
      "Epoch 220 Batch    0/5   train_loss = 3.092\n",
      "Epoch 222 Batch    0/5   train_loss = 3.071\n",
      "Epoch 224 Batch    0/5   train_loss = 3.053\n",
      "Epoch 226 Batch    0/5   train_loss = 3.037\n",
      "Epoch 228 Batch    0/5   train_loss = 3.018\n",
      "Epoch 230 Batch    0/5   train_loss = 3.001\n",
      "Epoch 232 Batch    0/5   train_loss = 2.984\n",
      "Epoch 234 Batch    0/5   train_loss = 2.967\n",
      "Epoch 236 Batch    0/5   train_loss = 2.951\n",
      "Epoch 238 Batch    0/5   train_loss = 2.940\n",
      "Epoch 240 Batch    0/5   train_loss = 2.926\n",
      "Epoch 242 Batch    0/5   train_loss = 2.908\n",
      "Epoch 244 Batch    0/5   train_loss = 2.896\n",
      "Epoch 246 Batch    0/5   train_loss = 2.873\n",
      "Epoch 248 Batch    0/5   train_loss = 2.860\n",
      "Epoch 250 Batch    0/5   train_loss = 2.843\n",
      "Epoch 252 Batch    0/5   train_loss = 2.824\n",
      "Epoch 254 Batch    0/5   train_loss = 2.808\n",
      "Epoch 256 Batch    0/5   train_loss = 2.793\n",
      "Epoch 258 Batch    0/5   train_loss = 2.782\n",
      "Epoch 260 Batch    0/5   train_loss = 2.771\n",
      "Epoch 262 Batch    0/5   train_loss = 2.749\n",
      "Epoch 264 Batch    0/5   train_loss = 2.740\n",
      "Epoch 266 Batch    0/5   train_loss = 2.724\n",
      "Epoch 268 Batch    0/5   train_loss = 2.704\n",
      "Epoch 270 Batch    0/5   train_loss = 2.691\n",
      "Epoch 272 Batch    0/5   train_loss = 2.680\n",
      "Epoch 274 Batch    0/5   train_loss = 2.661\n",
      "Epoch 276 Batch    0/5   train_loss = 2.650\n",
      "Epoch 278 Batch    0/5   train_loss = 2.639\n",
      "Epoch 280 Batch    0/5   train_loss = 2.617\n",
      "Epoch 282 Batch    0/5   train_loss = 2.610\n",
      "Epoch 284 Batch    0/5   train_loss = 2.595\n",
      "Epoch 286 Batch    0/5   train_loss = 2.579\n",
      "Epoch 288 Batch    0/5   train_loss = 2.566\n",
      "Epoch 290 Batch    0/5   train_loss = 2.551\n",
      "Epoch 292 Batch    0/5   train_loss = 2.541\n",
      "Epoch 294 Batch    0/5   train_loss = 2.530\n",
      "Epoch 296 Batch    0/5   train_loss = 2.511\n",
      "Epoch 298 Batch    0/5   train_loss = 2.500\n",
      "Epoch 300 Batch    0/5   train_loss = 2.486\n",
      "Epoch 302 Batch    0/5   train_loss = 2.471\n",
      "Epoch 304 Batch    0/5   train_loss = 2.468\n",
      "Epoch 306 Batch    0/5   train_loss = 2.446\n",
      "Epoch 308 Batch    0/5   train_loss = 2.435\n",
      "Epoch 310 Batch    0/5   train_loss = 2.420\n",
      "Epoch 312 Batch    0/5   train_loss = 2.409\n",
      "Epoch 314 Batch    0/5   train_loss = 2.395\n",
      "Epoch 316 Batch    0/5   train_loss = 2.379\n",
      "Epoch 318 Batch    0/5   train_loss = 2.369\n",
      "Epoch 320 Batch    0/5   train_loss = 2.360\n",
      "Epoch 322 Batch    0/5   train_loss = 2.343\n",
      "Epoch 324 Batch    0/5   train_loss = 2.332\n",
      "Epoch 326 Batch    0/5   train_loss = 2.324\n",
      "Epoch 328 Batch    0/5   train_loss = 2.308\n",
      "Epoch 330 Batch    0/5   train_loss = 2.299\n",
      "Epoch 332 Batch    0/5   train_loss = 2.294\n",
      "Epoch 334 Batch    0/5   train_loss = 2.274\n",
      "Epoch 336 Batch    0/5   train_loss = 2.263\n",
      "Epoch 338 Batch    0/5   train_loss = 2.248\n",
      "Epoch 340 Batch    0/5   train_loss = 2.241\n",
      "Epoch 342 Batch    0/5   train_loss = 2.229\n",
      "Epoch 344 Batch    0/5   train_loss = 2.211\n",
      "Epoch 346 Batch    0/5   train_loss = 2.203\n",
      "Epoch 348 Batch    0/5   train_loss = 2.193\n",
      "Epoch 350 Batch    0/5   train_loss = 2.180\n",
      "Epoch 352 Batch    0/5   train_loss = 2.167\n",
      "Epoch 354 Batch    0/5   train_loss = 2.161\n",
      "Epoch 356 Batch    0/5   train_loss = 2.154\n",
      "Epoch 358 Batch    0/5   train_loss = 2.135\n",
      "Epoch 360 Batch    0/5   train_loss = 2.125\n",
      "Epoch 362 Batch    0/5   train_loss = 2.109\n",
      "Epoch 364 Batch    0/5   train_loss = 2.100\n",
      "Epoch 366 Batch    0/5   train_loss = 2.087\n",
      "Epoch 368 Batch    0/5   train_loss = 2.076\n",
      "Epoch 370 Batch    0/5   train_loss = 2.067\n",
      "Epoch 372 Batch    0/5   train_loss = 2.053\n",
      "Epoch 374 Batch    0/5   train_loss = 2.042\n",
      "Epoch 376 Batch    0/5   train_loss = 2.036\n",
      "Epoch 378 Batch    0/5   train_loss = 2.022\n",
      "Epoch 380 Batch    0/5   train_loss = 2.018\n",
      "Epoch 382 Batch    0/5   train_loss = 2.010\n",
      "Epoch 384 Batch    0/5   train_loss = 1.992\n",
      "Epoch 386 Batch    0/5   train_loss = 1.985\n",
      "Epoch 388 Batch    0/5   train_loss = 1.974\n",
      "Epoch 390 Batch    0/5   train_loss = 1.972\n",
      "Epoch 392 Batch    0/5   train_loss = 1.953\n",
      "Epoch 394 Batch    0/5   train_loss = 1.942\n",
      "Epoch 396 Batch    0/5   train_loss = 1.936\n",
      "Epoch 398 Batch    0/5   train_loss = 1.916\n",
      "Epoch 400 Batch    0/5   train_loss = 1.907\n",
      "Epoch 402 Batch    0/5   train_loss = 1.902\n",
      "Epoch 404 Batch    0/5   train_loss = 1.889\n",
      "Epoch 406 Batch    0/5   train_loss = 1.883\n",
      "Epoch 408 Batch    0/5   train_loss = 1.873\n",
      "Epoch 410 Batch    0/5   train_loss = 1.856\n",
      "Epoch 412 Batch    0/5   train_loss = 1.850\n",
      "Epoch 414 Batch    0/5   train_loss = 1.838\n",
      "Epoch 416 Batch    0/5   train_loss = 1.831\n",
      "Epoch 418 Batch    0/5   train_loss = 1.818\n",
      "Epoch 420 Batch    0/5   train_loss = 1.808\n",
      "Epoch 422 Batch    0/5   train_loss = 1.798\n",
      "Epoch 424 Batch    0/5   train_loss = 1.790\n",
      "Epoch 426 Batch    0/5   train_loss = 1.780\n",
      "Epoch 428 Batch    0/5   train_loss = 1.772\n",
      "Epoch 430 Batch    0/5   train_loss = 1.762\n",
      "Epoch 432 Batch    0/5   train_loss = 1.770\n",
      "Epoch 434 Batch    0/5   train_loss = 1.753\n",
      "Epoch 436 Batch    0/5   train_loss = 1.744\n",
      "Epoch 438 Batch    0/5   train_loss = 1.724\n",
      "Epoch 440 Batch    0/5   train_loss = 1.721\n",
      "Epoch 442 Batch    0/5   train_loss = 1.707\n",
      "Epoch 444 Batch    0/5   train_loss = 1.694\n",
      "Epoch 446 Batch    0/5   train_loss = 1.690\n",
      "Epoch 448 Batch    0/5   train_loss = 1.680\n",
      "Epoch 450 Batch    0/5   train_loss = 1.666\n",
      "Epoch 452 Batch    0/5   train_loss = 1.661\n",
      "Epoch 454 Batch    0/5   train_loss = 1.651\n",
      "Epoch 456 Batch    0/5   train_loss = 1.640\n",
      "Epoch 458 Batch    0/5   train_loss = 1.633\n",
      "Epoch 460 Batch    0/5   train_loss = 1.630\n",
      "Epoch 462 Batch    0/5   train_loss = 1.613\n",
      "Epoch 464 Batch    0/5   train_loss = 1.609\n",
      "Epoch 466 Batch    0/5   train_loss = 1.598\n",
      "Epoch 468 Batch    0/5   train_loss = 1.593\n",
      "Epoch 470 Batch    0/5   train_loss = 1.579\n",
      "Epoch 472 Batch    0/5   train_loss = 1.571\n",
      "Epoch 474 Batch    0/5   train_loss = 1.569\n",
      "Epoch 476 Batch    0/5   train_loss = 1.557\n",
      "Epoch 478 Batch    0/5   train_loss = 1.543\n",
      "Epoch 480 Batch    0/5   train_loss = 1.541\n",
      "Epoch 482 Batch    0/5   train_loss = 1.531\n",
      "Epoch 484 Batch    0/5   train_loss = 1.521\n",
      "Epoch 486 Batch    0/5   train_loss = 1.514\n",
      "Epoch 488 Batch    0/5   train_loss = 1.508\n",
      "Epoch 490 Batch    0/5   train_loss = 1.497\n",
      "Epoch 492 Batch    0/5   train_loss = 1.495\n",
      "Epoch 494 Batch    0/5   train_loss = 1.481\n",
      "Epoch 496 Batch    0/5   train_loss = 1.482\n",
      "Epoch 498 Batch    0/5   train_loss = 1.466\n",
      "Epoch 500 Batch    0/5   train_loss = 1.459\n",
      "Epoch 502 Batch    0/5   train_loss = 1.445\n",
      "Epoch 504 Batch    0/5   train_loss = 1.435\n",
      "Epoch 506 Batch    0/5   train_loss = 1.427\n",
      "Epoch 508 Batch    0/5   train_loss = 1.416\n",
      "Epoch 510 Batch    0/5   train_loss = 1.410\n",
      "Epoch 512 Batch    0/5   train_loss = 1.401\n",
      "Epoch 514 Batch    0/5   train_loss = 1.396\n",
      "Epoch 516 Batch    0/5   train_loss = 1.389\n",
      "Epoch 518 Batch    0/5   train_loss = 1.385\n",
      "Epoch 520 Batch    0/5   train_loss = 1.375\n",
      "Epoch 522 Batch    0/5   train_loss = 1.370\n",
      "Epoch 524 Batch    0/5   train_loss = 1.357\n",
      "Epoch 526 Batch    0/5   train_loss = 1.353\n",
      "Epoch 528 Batch    0/5   train_loss = 1.347\n",
      "Epoch 530 Batch    0/5   train_loss = 1.332\n",
      "Epoch 532 Batch    0/5   train_loss = 1.335\n",
      "Epoch 534 Batch    0/5   train_loss = 1.337\n",
      "Epoch 536 Batch    0/5   train_loss = 1.314\n",
      "Epoch 538 Batch    0/5   train_loss = 1.319\n",
      "Epoch 540 Batch    0/5   train_loss = 1.301\n",
      "Epoch 542 Batch    0/5   train_loss = 1.294\n",
      "Epoch 544 Batch    0/5   train_loss = 1.279\n",
      "Epoch 546 Batch    0/5   train_loss = 1.281\n",
      "Epoch 548 Batch    0/5   train_loss = 1.268\n",
      "Epoch 550 Batch    0/5   train_loss = 1.260\n",
      "Epoch 552 Batch    0/5   train_loss = 1.253\n",
      "Epoch 554 Batch    0/5   train_loss = 1.251\n",
      "Epoch 556 Batch    0/5   train_loss = 1.243\n",
      "Epoch 558 Batch    0/5   train_loss = 1.235\n",
      "Epoch 560 Batch    0/5   train_loss = 1.231\n",
      "Epoch 562 Batch    0/5   train_loss = 1.215\n",
      "Epoch 564 Batch    0/5   train_loss = 1.209\n",
      "Epoch 566 Batch    0/5   train_loss = 1.205\n",
      "Epoch 568 Batch    0/5   train_loss = 1.197\n",
      "Epoch 570 Batch    0/5   train_loss = 1.194\n",
      "Epoch 572 Batch    0/5   train_loss = 1.192\n",
      "Epoch 574 Batch    0/5   train_loss = 1.178\n",
      "Epoch 576 Batch    0/5   train_loss = 1.170\n",
      "Epoch 578 Batch    0/5   train_loss = 1.172\n",
      "Epoch 580 Batch    0/5   train_loss = 1.156\n",
      "Epoch 582 Batch    0/5   train_loss = 1.157\n",
      "Epoch 584 Batch    0/5   train_loss = 1.145\n",
      "Epoch 586 Batch    0/5   train_loss = 1.137\n",
      "Epoch 588 Batch    0/5   train_loss = 1.127\n",
      "Epoch 590 Batch    0/5   train_loss = 1.123\n",
      "Epoch 592 Batch    0/5   train_loss = 1.112\n",
      "Epoch 594 Batch    0/5   train_loss = 1.106\n",
      "Epoch 596 Batch    0/5   train_loss = 1.100\n",
      "Epoch 598 Batch    0/5   train_loss = 1.094\n",
      "Epoch 600 Batch    0/5   train_loss = 1.087\n",
      "Epoch 602 Batch    0/5   train_loss = 1.080\n",
      "Epoch 604 Batch    0/5   train_loss = 1.073\n",
      "Epoch 606 Batch    0/5   train_loss = 1.073\n",
      "Epoch 608 Batch    0/5   train_loss = 1.063\n",
      "Epoch 610 Batch    0/5   train_loss = 1.059\n",
      "Epoch 612 Batch    0/5   train_loss = 1.057\n",
      "Epoch 614 Batch    0/5   train_loss = 1.081\n",
      "Epoch 616 Batch    0/5   train_loss = 1.046\n",
      "Epoch 618 Batch    0/5   train_loss = 1.048\n",
      "Epoch 620 Batch    0/5   train_loss = 1.029\n",
      "Epoch 622 Batch    0/5   train_loss = 1.017\n",
      "Epoch 624 Batch    0/5   train_loss = 1.009\n",
      "Epoch 626 Batch    0/5   train_loss = 1.009\n",
      "Epoch 628 Batch    0/5   train_loss = 0.999\n",
      "Epoch 630 Batch    0/5   train_loss = 1.000\n",
      "Epoch 632 Batch    0/5   train_loss = 0.992\n",
      "Epoch 634 Batch    0/5   train_loss = 0.983\n",
      "Epoch 636 Batch    0/5   train_loss = 0.979\n",
      "Epoch 638 Batch    0/5   train_loss = 0.966\n",
      "Epoch 640 Batch    0/5   train_loss = 0.963\n",
      "Epoch 642 Batch    0/5   train_loss = 0.955\n",
      "Epoch 644 Batch    0/5   train_loss = 0.950\n",
      "Epoch 646 Batch    0/5   train_loss = 0.949\n",
      "Epoch 648 Batch    0/5   train_loss = 0.940\n",
      "Epoch 650 Batch    0/5   train_loss = 0.941\n",
      "Epoch 652 Batch    0/5   train_loss = 0.932\n",
      "Epoch 654 Batch    0/5   train_loss = 0.931\n",
      "Epoch 656 Batch    0/5   train_loss = 0.921\n",
      "Epoch 658 Batch    0/5   train_loss = 0.921\n",
      "Epoch 660 Batch    0/5   train_loss = 0.906\n",
      "Epoch 662 Batch    0/5   train_loss = 0.911\n",
      "Epoch 664 Batch    0/5   train_loss = 0.896\n",
      "Epoch 666 Batch    0/5   train_loss = 0.893\n",
      "Epoch 668 Batch    0/5   train_loss = 0.885\n",
      "Epoch 670 Batch    0/5   train_loss = 0.883\n",
      "Epoch 672 Batch    0/5   train_loss = 0.872\n",
      "Epoch 674 Batch    0/5   train_loss = 0.866\n",
      "Epoch 676 Batch    0/5   train_loss = 0.881\n",
      "Epoch 678 Batch    0/5   train_loss = 0.855\n",
      "Epoch 680 Batch    0/5   train_loss = 0.862\n",
      "Epoch 682 Batch    0/5   train_loss = 0.847\n",
      "Epoch 684 Batch    0/5   train_loss = 0.841\n",
      "Epoch 686 Batch    0/5   train_loss = 0.834\n",
      "Epoch 688 Batch    0/5   train_loss = 0.830\n",
      "Epoch 690 Batch    0/5   train_loss = 0.822\n",
      "Epoch 692 Batch    0/5   train_loss = 0.819\n",
      "Epoch 694 Batch    0/5   train_loss = 0.815\n",
      "Epoch 696 Batch    0/5   train_loss = 0.807\n",
      "Epoch 698 Batch    0/5   train_loss = 0.804\n",
      "Epoch 700 Batch    0/5   train_loss = 0.798\n",
      "Epoch 702 Batch    0/5   train_loss = 0.796\n",
      "Epoch 704 Batch    0/5   train_loss = 0.789\n",
      "Epoch 706 Batch    0/5   train_loss = 0.784\n",
      "Epoch 708 Batch    0/5   train_loss = 0.779\n",
      "Epoch 710 Batch    0/5   train_loss = 0.770\n",
      "Epoch 712 Batch    0/5   train_loss = 0.768\n",
      "Epoch 714 Batch    0/5   train_loss = 0.759\n",
      "Epoch 716 Batch    0/5   train_loss = 0.753\n",
      "Epoch 718 Batch    0/5   train_loss = 0.764\n",
      "Epoch 720 Batch    0/5   train_loss = 0.756\n",
      "Epoch 722 Batch    0/5   train_loss = 0.757\n",
      "Epoch 724 Batch    0/5   train_loss = 0.746\n",
      "Epoch 726 Batch    0/5   train_loss = 0.737\n",
      "Epoch 728 Batch    0/5   train_loss = 0.729\n",
      "Epoch 730 Batch    0/5   train_loss = 0.720\n",
      "Epoch 732 Batch    0/5   train_loss = 0.717\n",
      "Epoch 734 Batch    0/5   train_loss = 0.712\n",
      "Epoch 736 Batch    0/5   train_loss = 0.704\n",
      "Epoch 738 Batch    0/5   train_loss = 0.706\n",
      "Epoch 740 Batch    0/5   train_loss = 0.706\n",
      "Epoch 742 Batch    0/5   train_loss = 0.690\n",
      "Epoch 744 Batch    0/5   train_loss = 0.704\n",
      "Epoch 746 Batch    0/5   train_loss = 0.686\n",
      "Epoch 748 Batch    0/5   train_loss = 0.681\n",
      "Epoch 750 Batch    0/5   train_loss = 0.675\n",
      "Epoch 752 Batch    0/5   train_loss = 0.671\n",
      "Epoch 754 Batch    0/5   train_loss = 0.666\n",
      "Epoch 756 Batch    0/5   train_loss = 0.673\n",
      "Epoch 758 Batch    0/5   train_loss = 0.671\n",
      "Epoch 760 Batch    0/5   train_loss = 0.660\n",
      "Epoch 762 Batch    0/5   train_loss = 0.650\n",
      "Epoch 764 Batch    0/5   train_loss = 0.649\n",
      "Epoch 766 Batch    0/5   train_loss = 0.634\n",
      "Epoch 768 Batch    0/5   train_loss = 0.632\n",
      "Epoch 770 Batch    0/5   train_loss = 0.624\n",
      "Epoch 772 Batch    0/5   train_loss = 0.621\n",
      "Epoch 774 Batch    0/5   train_loss = 0.618\n",
      "Epoch 776 Batch    0/5   train_loss = 0.612\n",
      "Epoch 778 Batch    0/5   train_loss = 0.609\n",
      "Epoch 780 Batch    0/5   train_loss = 0.606\n",
      "Epoch 782 Batch    0/5   train_loss = 0.602\n",
      "Epoch 784 Batch    0/5   train_loss = 0.599\n",
      "Epoch 786 Batch    0/5   train_loss = 0.595\n",
      "Epoch 788 Batch    0/5   train_loss = 0.600\n",
      "Epoch 790 Batch    0/5   train_loss = 0.590\n",
      "Epoch 792 Batch    0/5   train_loss = 0.588\n",
      "Epoch 794 Batch    0/5   train_loss = 0.586\n",
      "Epoch 796 Batch    0/5   train_loss = 0.577\n",
      "Epoch 798 Batch    0/5   train_loss = 0.571\n",
      "Epoch 800 Batch    0/5   train_loss = 0.571\n",
      "Epoch 802 Batch    0/5   train_loss = 0.573\n",
      "Epoch 804 Batch    0/5   train_loss = 0.567\n",
      "Epoch 806 Batch    0/5   train_loss = 0.555\n",
      "Epoch 808 Batch    0/5   train_loss = 0.574\n",
      "Epoch 810 Batch    0/5   train_loss = 0.549\n",
      "Epoch 812 Batch    0/5   train_loss = 0.564\n",
      "Epoch 814 Batch    0/5   train_loss = 0.546\n",
      "Epoch 816 Batch    0/5   train_loss = 0.548\n",
      "Epoch 818 Batch    0/5   train_loss = 0.531\n",
      "Epoch 820 Batch    0/5   train_loss = 0.529\n",
      "Epoch 822 Batch    0/5   train_loss = 0.520\n",
      "Epoch 824 Batch    0/5   train_loss = 0.520\n",
      "Epoch 826 Batch    0/5   train_loss = 0.513\n",
      "Epoch 828 Batch    0/5   train_loss = 0.509\n",
      "Epoch 830 Batch    0/5   train_loss = 0.508\n",
      "Epoch 832 Batch    0/5   train_loss = 0.502\n",
      "Epoch 834 Batch    0/5   train_loss = 0.501\n",
      "Epoch 836 Batch    0/5   train_loss = 0.502\n",
      "Epoch 838 Batch    0/5   train_loss = 0.492\n",
      "Epoch 840 Batch    0/5   train_loss = 0.499\n",
      "Epoch 842 Batch    0/5   train_loss = 0.488\n",
      "Epoch 844 Batch    0/5   train_loss = 0.490\n",
      "Epoch 846 Batch    0/5   train_loss = 0.483\n",
      "Epoch 848 Batch    0/5   train_loss = 0.482\n",
      "Epoch 850 Batch    0/5   train_loss = 0.478\n",
      "Epoch 852 Batch    0/5   train_loss = 0.475\n",
      "Epoch 854 Batch    0/5   train_loss = 0.467\n",
      "Epoch 856 Batch    0/5   train_loss = 0.464\n",
      "Epoch 858 Batch    0/5   train_loss = 0.457\n",
      "Epoch 860 Batch    0/5   train_loss = 0.454\n",
      "Epoch 862 Batch    0/5   train_loss = 0.448\n",
      "Epoch 864 Batch    0/5   train_loss = 0.446\n",
      "Epoch 866 Batch    0/5   train_loss = 0.443\n",
      "Epoch 868 Batch    0/5   train_loss = 0.441\n",
      "Epoch 870 Batch    0/5   train_loss = 0.441\n",
      "Epoch 872 Batch    0/5   train_loss = 0.434\n",
      "Epoch 874 Batch    0/5   train_loss = 0.436\n",
      "Epoch 876 Batch    0/5   train_loss = 0.431\n",
      "Epoch 878 Batch    0/5   train_loss = 0.423\n",
      "Epoch 880 Batch    0/5   train_loss = 0.431\n",
      "Epoch 882 Batch    0/5   train_loss = 0.423\n",
      "Epoch 884 Batch    0/5   train_loss = 0.423\n",
      "Epoch 886 Batch    0/5   train_loss = 0.439\n",
      "Epoch 888 Batch    0/5   train_loss = 0.415\n",
      "Epoch 890 Batch    0/5   train_loss = 0.418\n",
      "Epoch 892 Batch    0/5   train_loss = 0.406\n",
      "Epoch 894 Batch    0/5   train_loss = 0.399\n",
      "Epoch 896 Batch    0/5   train_loss = 0.397\n",
      "Epoch 898 Batch    0/5   train_loss = 0.389\n",
      "Epoch 900 Batch    0/5   train_loss = 0.389\n",
      "Epoch 902 Batch    0/5   train_loss = 0.384\n",
      "Epoch 904 Batch    0/5   train_loss = 0.381\n",
      "Epoch 906 Batch    0/5   train_loss = 0.384\n",
      "Epoch 908 Batch    0/5   train_loss = 0.386\n",
      "Epoch 910 Batch    0/5   train_loss = 0.375\n",
      "Epoch 912 Batch    0/5   train_loss = 0.382\n",
      "Epoch 914 Batch    0/5   train_loss = 0.368\n",
      "Epoch 916 Batch    0/5   train_loss = 0.371\n",
      "Epoch 918 Batch    0/5   train_loss = 0.363\n",
      "Epoch 920 Batch    0/5   train_loss = 0.361\n",
      "Epoch 922 Batch    0/5   train_loss = 0.355\n",
      "Epoch 924 Batch    0/5   train_loss = 0.357\n",
      "Epoch 926 Batch    0/5   train_loss = 0.353\n",
      "Epoch 928 Batch    0/5   train_loss = 0.358\n",
      "Epoch 930 Batch    0/5   train_loss = 0.356\n",
      "Epoch 932 Batch    0/5   train_loss = 0.348\n",
      "Epoch 934 Batch    0/5   train_loss = 0.353\n",
      "Epoch 936 Batch    0/5   train_loss = 0.342\n",
      "Epoch 938 Batch    0/5   train_loss = 0.338\n",
      "Epoch 940 Batch    0/5   train_loss = 0.338\n",
      "Epoch 942 Batch    0/5   train_loss = 0.330\n",
      "Epoch 944 Batch    0/5   train_loss = 0.329\n",
      "Epoch 946 Batch    0/5   train_loss = 0.323\n",
      "Epoch 948 Batch    0/5   train_loss = 0.320\n",
      "Epoch 950 Batch    0/5   train_loss = 0.315\n",
      "Epoch 952 Batch    0/5   train_loss = 0.313\n",
      "Epoch 954 Batch    0/5   train_loss = 0.310\n",
      "Epoch 956 Batch    0/5   train_loss = 0.307\n",
      "Epoch 958 Batch    0/5   train_loss = 0.307\n",
      "Epoch 960 Batch    0/5   train_loss = 0.304\n",
      "Epoch 962 Batch    0/5   train_loss = 0.309\n",
      "Epoch 964 Batch    0/5   train_loss = 0.311\n",
      "Epoch 966 Batch    0/5   train_loss = 0.311\n",
      "Epoch 968 Batch    0/5   train_loss = 0.304\n",
      "Epoch 970 Batch    0/5   train_loss = 0.309\n",
      "Epoch 972 Batch    0/5   train_loss = 0.291\n",
      "Epoch 974 Batch    0/5   train_loss = 0.298\n",
      "Epoch 976 Batch    0/5   train_loss = 0.286\n",
      "Epoch 978 Batch    0/5   train_loss = 0.284\n",
      "Epoch 980 Batch    0/5   train_loss = 0.284\n",
      "Epoch 982 Batch    0/5   train_loss = 0.276\n",
      "Epoch 984 Batch    0/5   train_loss = 0.285\n",
      "Epoch 986 Batch    0/5   train_loss = 0.275\n",
      "Epoch 988 Batch    0/5   train_loss = 0.278\n",
      "Epoch 990 Batch    0/5   train_loss = 0.275\n",
      "Epoch 992 Batch    0/5   train_loss = 0.269\n",
      "Epoch 994 Batch    0/5   train_loss = 0.269\n",
      "Epoch 996 Batch    0/5   train_loss = 0.261\n",
      "Epoch 998 Batch    0/5   train_loss = 0.261\n",
      "Model Trained and Saved\n"
     ]
    }
   ],
   "source": [
    "\"\"\"\n",
    "DON'T MODIFY ANYTHING IN THIS CELL\n",
    "\"\"\"\n",
    "batches = get_batches(int_text, batch_size, seq_length)\n",
    "\n",
    "with tf.Session(graph=train_graph) as sess:\n",
    "    sess.run(tf.global_variables_initializer())\n",
    "\n",
    "    for epoch_i in range(num_epochs):\n",
    "        state = sess.run(initial_state, {input_text: batches[0][0]})\n",
    "\n",
    "        for batch_i, (x, y) in enumerate(batches):\n",
    "            feed = {\n",
    "                input_text: x,\n",
    "                targets: y,\n",
    "                initial_state: state,\n",
    "                lr: learning_rate}\n",
    "            train_loss, state, _ = sess.run([cost, final_state, train_op], feed)\n",
    "\n",
    "            # Show every <show_every_n_batches> batches\n",
    "            if (epoch_i * len(batches) + batch_i) % show_every_n_batches == 0:\n",
    "                print('Epoch {:>3} Batch {:>4}/{}   train_loss = {:.3f}'.format(\n",
    "                    epoch_i,\n",
    "                    batch_i,\n",
    "                    len(batches),\n",
    "                    train_loss))\n",
    "\n",
    "    # Save Model\n",
    "    saver = tf.train.Saver()\n",
    "    saver.save(sess, save_dir)\n",
    "    print('Model Trained and Saved')"
   ]
  },
  {
   "cell_type": "markdown",
   "metadata": {
    "deletable": true,
    "editable": true
   },
   "source": [
    "## Save Parameters\n",
    "Save `seq_length` and `save_dir` for generating a new TV script."
   ]
  },
  {
   "cell_type": "code",
   "execution_count": 51,
   "metadata": {
    "collapsed": true,
    "deletable": true,
    "editable": true
   },
   "outputs": [],
   "source": [
    "\"\"\"\n",
    "DON'T MODIFY ANYTHING IN THIS CELL\n",
    "\"\"\"\n",
    "# Save parameters for checkpoint\n",
    "helper.save_params((seq_length, save_dir))"
   ]
  },
  {
   "cell_type": "markdown",
   "metadata": {
    "deletable": true,
    "editable": true
   },
   "source": [
    "# Checkpoint"
   ]
  },
  {
   "cell_type": "code",
   "execution_count": 52,
   "metadata": {
    "collapsed": true,
    "deletable": true,
    "editable": true
   },
   "outputs": [],
   "source": [
    "\"\"\"\n",
    "DON'T MODIFY ANYTHING IN THIS CELL\n",
    "\"\"\"\n",
    "import tensorflow as tf\n",
    "import numpy as np\n",
    "import helper\n",
    "import problem_unittests as tests\n",
    "\n",
    "_, vocab_to_int, int_to_vocab, token_dict = helper.load_preprocess()\n",
    "seq_length, load_dir = helper.load_params()"
   ]
  },
  {
   "cell_type": "markdown",
   "metadata": {
    "deletable": true,
    "editable": true
   },
   "source": [
    "## Implement Generate Functions\n",
    "### Get Tensors\n",
    "Get tensors from `loaded_graph` using the function [`get_tensor_by_name()`](https://www.tensorflow.org/api_docs/python/tf/Graph#get_tensor_by_name).  Get the tensors using the following names:\n",
    "- \"input:0\"\n",
    "- \"initial_state:0\"\n",
    "- \"final_state:0\"\n",
    "- \"probs:0\"\n",
    "\n",
    "Return the tensors in the following tuple `(InputTensor, InitialStateTensor, FinalStateTensor, ProbsTensor)` "
   ]
  },
  {
   "cell_type": "code",
   "execution_count": 53,
   "metadata": {
    "collapsed": false,
    "deletable": true,
    "editable": true
   },
   "outputs": [
    {
     "name": "stdout",
     "output_type": "stream",
     "text": [
      "Tests Passed\n"
     ]
    }
   ],
   "source": [
    "def get_tensors(loaded_graph):\n",
    "    \"\"\"\n",
    "    Get input, initial state, final state, and probabilities tensor from <loaded_graph>\n",
    "    :param loaded_graph: TensorFlow graph loaded from file\n",
    "    :return: Tuple (InputTensor, InitialStateTensor, FinalStateTensor, ProbsTensor)\n",
    "    \"\"\"\n",
    "    # TODO: Implement Function\n",
    "    InputTensor = loaded_graph.get_tensor_by_name('input:0')\n",
    "    InitialStateTensor = loaded_graph.get_tensor_by_name('initial_state:0')\n",
    "    FinalStateTensor = loaded_graph.get_tensor_by_name('final_state:0')\n",
    "    ProbsTensor = loaded_graph.get_tensor_by_name('probs:0')\n",
    "    \n",
    "    return InputTensor, InitialStateTensor, FinalStateTensor, ProbsTensor\n",
    "\n",
    "\n",
    "\"\"\"\n",
    "DON'T MODIFY ANYTHING IN THIS CELL THAT IS BELOW THIS LINE\n",
    "\"\"\"\n",
    "tests.test_get_tensors(get_tensors)"
   ]
  },
  {
   "cell_type": "markdown",
   "metadata": {
    "deletable": true,
    "editable": true
   },
   "source": [
    "### Choose Word\n",
    "Implement the `pick_word()` function to select the next word using `probabilities`."
   ]
  },
  {
   "cell_type": "code",
   "execution_count": 54,
   "metadata": {
    "collapsed": false,
    "deletable": true,
    "editable": true
   },
   "outputs": [
    {
     "name": "stdout",
     "output_type": "stream",
     "text": [
      "Tests Passed\n"
     ]
    }
   ],
   "source": [
    "def pick_word(probabilities, int_to_vocab):\n",
    "    \"\"\"\n",
    "    Pick the next word in the generated text\n",
    "    :param probabilities: Probabilites of the next word\n",
    "    :param int_to_vocab: Dictionary of word ids as the keys and words as the values\n",
    "    :return: String of the predicted word\n",
    "    \"\"\"\n",
    "    # TODO: Implement Function\n",
    "    return int_to_vocab[probabilities.argmax()]\n",
    "\n",
    "\n",
    "\"\"\"\n",
    "DON'T MODIFY ANYTHING IN THIS CELL THAT IS BELOW THIS LINE\n",
    "\"\"\"\n",
    "tests.test_pick_word(pick_word)"
   ]
  },
  {
   "cell_type": "markdown",
   "metadata": {
    "deletable": true,
    "editable": true
   },
   "source": [
    "## Generate TV Script\n",
    "This will generate the TV script for you.  Set `gen_length` to the length of TV script you want to generate."
   ]
  },
  {
   "cell_type": "code",
   "execution_count": 55,
   "metadata": {
    "collapsed": false,
    "deletable": true,
    "editable": true
   },
   "outputs": [
    {
     "name": "stdout",
     "output_type": "stream",
     "text": [
      "moe_szyslak: oh, the heat's been on since them bush girls were in here.\n",
      "homer_simpson: all right, all right.(dejected) come on, bart.\n",
      "bart_simpson: i'm cold and scared.\n",
      "homer_simpson: hey, moe. i love you to have my lucky mitts. i hope you do better with 'em than i did.\n",
      "carl_carlson: yeah, you were gettin' all spacey and make you fight me?\n",
      "homer_simpson: well, thought bubble marge said we should have a thing.\n",
      "homer_simpson:(sobs) oh!\n",
      "marge_simpson: i'm awfully sorry.\n",
      "jacques: entirely my fault.(pause) is this here, go!\n",
      "marge_simpson: homer, you're supposed to be hunting for bart!\n",
      "homer_simpson: i'm the love-matic grampa!\n",
      "singers:(peppy) while i am so i can get drunk.\n",
      "moe_szyslak:(watching fire) aww! ah, my poor bar...\n",
      "moe_szyslak:(shocked) what am i gonna do?\n",
      "moe_szyslak: watch, you...\n",
      "football_announcer: touchdown! stick a fork in this one.\n",
      "\n"
     ]
    }
   ],
   "source": [
    "gen_length = 200\n",
    "# homer_simpson, moe_szyslak, or Barney_Gumble\n",
    "prime_word = 'moe_szyslak'\n",
    "\n",
    "\"\"\"\n",
    "DON'T MODIFY ANYTHING IN THIS CELL THAT IS BELOW THIS LINE\n",
    "\"\"\"\n",
    "loaded_graph = tf.Graph()\n",
    "with tf.Session(graph=loaded_graph) as sess:\n",
    "    # Load saved model\n",
    "    loader = tf.train.import_meta_graph(load_dir + '.meta')\n",
    "    loader.restore(sess, load_dir)\n",
    "\n",
    "    # Get Tensors from loaded model\n",
    "    input_text, initial_state, final_state, probs = get_tensors(loaded_graph)\n",
    "\n",
    "    # Sentences generation setup\n",
    "    gen_sentences = [prime_word + ':']\n",
    "    prev_state = sess.run(initial_state, {input_text: np.array([[1]])})\n",
    "\n",
    "    # Generate sentences\n",
    "    for n in range(gen_length):\n",
    "        # Dynamic Input\n",
    "        dyn_input = [[vocab_to_int[word] for word in gen_sentences[-seq_length:]]]\n",
    "        dyn_seq_length = len(dyn_input[0])\n",
    "\n",
    "        # Get Prediction\n",
    "        probabilities, prev_state = sess.run(\n",
    "            [probs, final_state],\n",
    "            {input_text: dyn_input, initial_state: prev_state})\n",
    "        \n",
    "        pred_word = pick_word(probabilities[dyn_seq_length-1], int_to_vocab)\n",
    "\n",
    "        gen_sentences.append(pred_word)\n",
    "    \n",
    "    # Remove tokens\n",
    "    tv_script = ' '.join(gen_sentences)\n",
    "    for key, token in token_dict.items():\n",
    "        ending = ' ' if key in ['\\n', '(', '\"'] else ''\n",
    "        tv_script = tv_script.replace(' ' + token.lower(), key)\n",
    "    tv_script = tv_script.replace('\\n ', '\\n')\n",
    "    tv_script = tv_script.replace('( ', '(')\n",
    "        \n",
    "    print(tv_script)"
   ]
  },
  {
   "cell_type": "markdown",
   "metadata": {
    "deletable": true,
    "editable": true
   },
   "source": [
    "# The TV Script is Nonsensical\n",
    "It's ok if the TV script doesn't make any sense.  We trained on less than a megabyte of text.  In order to get good results, you'll have to use a smaller vocabulary or get more data.  Luckly there's more data!  As we mentioned in the begging of this project, this is a subset of [another dataset](https://www.kaggle.com/wcukierski/the-simpsons-by-the-data).  We didn't have you train on all the data, because that would take too long.  However, you are free to train your neural network on all the data.  After you complete the project, of course.\n",
    "# Submitting This Project\n",
    "When submitting this project, make sure to run all the cells before saving the notebook. Save the notebook file as \"dlnd_tv_script_generation.ipynb\" and save it as a HTML file under \"File\" -> \"Download as\". Include the \"helper.py\" and \"problem_unittests.py\" files in your submission."
   ]
  }
 ],
 "metadata": {
  "kernelspec": {
   "display_name": "Python 3",
   "language": "python",
   "name": "python3"
  },
  "language_info": {
   "codemirror_mode": {
    "name": "ipython",
    "version": 3
   },
   "file_extension": ".py",
   "mimetype": "text/x-python",
   "name": "python",
   "nbconvert_exporter": "python",
   "pygments_lexer": "ipython3",
   "version": "3.6.1"
  },
  "widgets": {
   "state": {},
   "version": "1.1.2"
  }
 },
 "nbformat": 4,
 "nbformat_minor": 1
}
